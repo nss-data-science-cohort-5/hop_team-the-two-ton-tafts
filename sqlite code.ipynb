{
 "cells": [
  {
   "cell_type": "code",
   "execution_count": 1,
   "id": "83f900ef",
   "metadata": {},
   "outputs": [],
   "source": [
    "import pandas as pd\n",
    "import sqlite3\n",
    "from tqdm.notebook import tqdm"
   ]
  },
  {
   "cell_type": "code",
   "execution_count": null,
   "id": "b1254e75",
   "metadata": {},
   "outputs": [],
   "source": [
    "#https://pandas.pydata.org/docs/reference/api/pandas.read_csv.html\n"
   ]
  },
  {
   "cell_type": "code",
   "execution_count": 5,
   "id": "c3a68d4f",
   "metadata": {
    "scrolled": true
   },
   "outputs": [
    {
     "data": {
      "text/html": [
       "<div>\n",
       "<style scoped>\n",
       "    .dataframe tbody tr th:only-of-type {\n",
       "        vertical-align: middle;\n",
       "    }\n",
       "\n",
       "    .dataframe tbody tr th {\n",
       "        vertical-align: top;\n",
       "    }\n",
       "\n",
       "    .dataframe thead th {\n",
       "        text-align: right;\n",
       "    }\n",
       "</style>\n",
       "<table border=\"1\" class=\"dataframe\">\n",
       "  <thead>\n",
       "    <tr style=\"text-align: right;\">\n",
       "      <th></th>\n",
       "      <th>zip</th>\n",
       "      <th>cbsa</th>\n",
       "      <th>usps_zip_pref_city</th>\n",
       "      <th>usps_zip_pref_state</th>\n",
       "    </tr>\n",
       "  </thead>\n",
       "  <tbody>\n",
       "    <tr>\n",
       "      <th>0</th>\n",
       "      <td>00683</td>\n",
       "      <td>41900</td>\n",
       "      <td>SAN GERMAN</td>\n",
       "      <td>PR</td>\n",
       "    </tr>\n",
       "    <tr>\n",
       "      <th>1</th>\n",
       "      <td>00683</td>\n",
       "      <td>32420</td>\n",
       "      <td>SAN GERMAN</td>\n",
       "      <td>PR</td>\n",
       "    </tr>\n",
       "    <tr>\n",
       "      <th>2</th>\n",
       "      <td>00923</td>\n",
       "      <td>41980</td>\n",
       "      <td>SAN JUAN</td>\n",
       "      <td>PR</td>\n",
       "    </tr>\n",
       "    <tr>\n",
       "      <th>3</th>\n",
       "      <td>01010</td>\n",
       "      <td>44140</td>\n",
       "      <td>BRIMFIELD</td>\n",
       "      <td>MA</td>\n",
       "    </tr>\n",
       "    <tr>\n",
       "      <th>4</th>\n",
       "      <td>01010</td>\n",
       "      <td>49340</td>\n",
       "      <td>BRIMFIELD</td>\n",
       "      <td>MA</td>\n",
       "    </tr>\n",
       "  </tbody>\n",
       "</table>\n",
       "</div>"
      ],
      "text/plain": [
       "     zip   cbsa usps_zip_pref_city usps_zip_pref_state\n",
       "0  00683  41900         SAN GERMAN                  PR\n",
       "1  00683  32420         SAN GERMAN                  PR\n",
       "2  00923  41980           SAN JUAN                  PR\n",
       "3  01010  44140          BRIMFIELD                  MA\n",
       "4  01010  49340          BRIMFIELD                  MA"
      ]
     },
     "execution_count": 5,
     "metadata": {},
     "output_type": "execute_result"
    }
   ],
   "source": [
    "test = pd.read_csv('data/ZIP_CBSA_122021.csv', nrows = 100)\n",
    "test['zip'] = test['zip'].str.slice(start = 1, stop = 6)\n",
    "\n",
    "test.head()\n",
    "\n"
   ]
  },
  {
   "cell_type": "code",
   "execution_count": 8,
   "id": "c0161e64",
   "metadata": {
    "scrolled": true
   },
   "outputs": [
    {
     "data": {
      "application/vnd.jupyter.widget-view+json": {
       "model_id": "7e2be2b3ea1d42519ea72b33b63047ca",
       "version_major": 2,
       "version_minor": 0
      },
      "text/plain": [
       "0it [00:00, ?it/s]"
      ]
     },
     "metadata": {},
     "output_type": "display_data"
    },
    {
     "data": {
      "application/vnd.jupyter.widget-view+json": {
       "model_id": "2a0d5cf8c4ba473ab76987bf696cef3e",
       "version_major": 2,
       "version_minor": 0
      },
      "text/plain": [
       "0it [00:00, ?it/s]"
      ]
     },
     "metadata": {},
     "output_type": "display_data"
    },
    {
     "data": {
      "application/vnd.jupyter.widget-view+json": {
       "model_id": "c46ac5e7e4ba474bb0fdc866865c0afa",
       "version_major": 2,
       "version_minor": 0
      },
      "text/plain": [
       "0it [00:00, ?it/s]"
      ]
     },
     "metadata": {},
     "output_type": "display_data"
    },
    {
     "data": {
      "application/vnd.jupyter.widget-view+json": {
       "model_id": "0ee4967528d549ae9a070631f14bac7e",
       "version_major": 2,
       "version_minor": 0
      },
      "text/plain": [
       "0it [00:00, ?it/s]"
      ]
     },
     "metadata": {},
     "output_type": "display_data"
    }
   ],
   "source": [
    "hop_proj=sqlite3.connect('data/hop_proj.sqlite')\n",
    "\n",
    "for chunk in tqdm(pd.read_csv('data/nppes_with_taxonomy.csv', dtype = {'postal_code':str}, chunksize = 1000)):\n",
    "    chunk['postal_code'] = chunk['postal_code'].str.slice(stop=5)\n",
    "    chunk.to_sql('nppes', hop_proj, if_exists = 'append', index = False)\n",
    "    \n",
    "for chunk in tqdm(pd.read_csv('data/nucc_taxonomy_220.csv', chunksize = 1000)):\n",
    "    chunk.to_sql('taxonomy', hop_proj, if_exists = 'append', index = False)\n",
    "    \n",
    "for chunk in tqdm(pd.read_csv('data/ZIP_CBSA_122021.csv', chunksize = 1000, )):\n",
    "    chunk['zip'] = chunk['zip'].str.slice(start = 1, stop = 6)\n",
    "    chunk.to_sql('cbsa', hop_proj, if_exists = 'append', index = False)\n",
    "    \n",
    "for chunk in tqdm(pd.read_csv('data/DocGraph_Hop_Teaming_2018_Commercial/DocGraph_Hop_Teaming_2018_Commercial/DocGraph_Hop_Teaming_2018.csv', \n",
    "                              dtype = {'zip':str},\n",
    "                              chunksize = 1000)):\n",
    "    chunk = chunk[(chunk['transaction_count'] >= 50) & chunk['average_day_wait'] < 50]\n",
    "    chunk.to_sql('hop', hop_proj, if_exists = 'append', index = False)"
   ]
  },
  {
   "cell_type": "code",
   "execution_count": 9,
   "id": "703d2572",
   "metadata": {
    "scrolled": true
   },
   "outputs": [],
   "source": [
    "hop_proj.close()"
   ]
  },
  {
   "cell_type": "code",
   "execution_count": 6,
   "id": "c8c78fd9",
   "metadata": {},
   "outputs": [],
   "source": [
    "hop_proj=sqlite3.connect('data/hop_proj.sqlite')\n",
    "\n",
    "hop_proj.execute('CREATE INDEX npi ON nppes(npi)')\n",
    "hop_proj.execute('CREATE INDEX postal_code ON nppes(postal_code)')\n",
    "hop_proj.execute('CREATE INDEX primary_taxonomy ON nppes(primary_taxonomy)')\n",
    "\n",
    "hop_proj.execute('CREATE INDEX from_npi ON hop(from_npi)')\n",
    "hop_proj.execute('CREATE INDEX to_npi ON hop(to_npi)')\n",
    "\n",
    "hop_proj.execute('CREATE INDEX zip ON cbsa(zip)')\n",
    "\n",
    "hop_proj.execute('CREATE INDEX code ON taxonomy(code)')\n",
    "\n",
    "hop_proj.close()"
   ]
  },
  {
   "cell_type": "code",
   "execution_count": null,
   "id": "083a2e9e",
   "metadata": {},
   "outputs": [],
   "source": []
  }
 ],
 "metadata": {
  "kernelspec": {
   "display_name": "Python 3",
   "language": "python",
   "name": "python3"
  },
  "language_info": {
   "codemirror_mode": {
    "name": "ipython",
    "version": 3
   },
   "file_extension": ".py",
   "mimetype": "text/x-python",
   "name": "python",
   "nbconvert_exporter": "python",
   "pygments_lexer": "ipython3",
   "version": "3.8.8"
  }
 },
 "nbformat": 4,
 "nbformat_minor": 5
}
