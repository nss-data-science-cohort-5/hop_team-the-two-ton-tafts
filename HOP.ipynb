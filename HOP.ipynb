{
 "cells": [
  {
   "cell_type": "code",
   "execution_count": 1,
   "id": "9090f3d7",
   "metadata": {},
   "outputs": [],
   "source": [
    "import pandas as pd"
   ]
  },
  {
   "cell_type": "code",
   "execution_count": 3,
   "id": "234a2743",
   "metadata": {},
   "outputs": [],
   "source": [
    "hop_df = pd.read_csv(\"DocGraph_Hop_Teaming_2018.csv\")"
   ]
  },
  {
   "cell_type": "code",
   "execution_count": 5,
   "id": "f6b25f13",
   "metadata": {},
   "outputs": [
    {
     "data": {
      "text/html": [
       "<div>\n",
       "<style scoped>\n",
       "    .dataframe tbody tr th:only-of-type {\n",
       "        vertical-align: middle;\n",
       "    }\n",
       "\n",
       "    .dataframe tbody tr th {\n",
       "        vertical-align: top;\n",
       "    }\n",
       "\n",
       "    .dataframe thead th {\n",
       "        text-align: right;\n",
       "    }\n",
       "</style>\n",
       "<table border=\"1\" class=\"dataframe\">\n",
       "  <thead>\n",
       "    <tr style=\"text-align: right;\">\n",
       "      <th></th>\n",
       "      <th>from_npi</th>\n",
       "      <th>to_npi</th>\n",
       "      <th>patient_count</th>\n",
       "      <th>transaction_count</th>\n",
       "      <th>average_day_wait</th>\n",
       "      <th>std_day_wait</th>\n",
       "    </tr>\n",
       "  </thead>\n",
       "  <tbody>\n",
       "    <tr>\n",
       "      <th>0</th>\n",
       "      <td>1508062167</td>\n",
       "      <td>1730166109</td>\n",
       "      <td>350</td>\n",
       "      <td>370</td>\n",
       "      <td>53.922</td>\n",
       "      <td>72.612</td>\n",
       "    </tr>\n",
       "    <tr>\n",
       "      <th>1</th>\n",
       "      <td>1508065640</td>\n",
       "      <td>1730166109</td>\n",
       "      <td>25</td>\n",
       "      <td>25</td>\n",
       "      <td>49.800</td>\n",
       "      <td>55.006</td>\n",
       "    </tr>\n",
       "    <tr>\n",
       "      <th>2</th>\n",
       "      <td>1508052093</td>\n",
       "      <td>1730166109</td>\n",
       "      <td>16</td>\n",
       "      <td>16</td>\n",
       "      <td>109.500</td>\n",
       "      <td>70.593</td>\n",
       "    </tr>\n",
       "    <tr>\n",
       "      <th>3</th>\n",
       "      <td>1508172545</td>\n",
       "      <td>1730166109</td>\n",
       "      <td>14</td>\n",
       "      <td>14</td>\n",
       "      <td>103.357</td>\n",
       "      <td>75.483</td>\n",
       "    </tr>\n",
       "    <tr>\n",
       "      <th>4</th>\n",
       "      <td>1508285131</td>\n",
       "      <td>1730166109</td>\n",
       "      <td>20</td>\n",
       "      <td>21</td>\n",
       "      <td>89.952</td>\n",
       "      <td>89.880</td>\n",
       "    </tr>\n",
       "  </tbody>\n",
       "</table>\n",
       "</div>"
      ],
      "text/plain": [
       "     from_npi      to_npi  patient_count  transaction_count  average_day_wait  \\\n",
       "0  1508062167  1730166109            350                370            53.922   \n",
       "1  1508065640  1730166109             25                 25            49.800   \n",
       "2  1508052093  1730166109             16                 16           109.500   \n",
       "3  1508172545  1730166109             14                 14           103.357   \n",
       "4  1508285131  1730166109             20                 21            89.952   \n",
       "\n",
       "   std_day_wait  \n",
       "0        72.612  \n",
       "1        55.006  \n",
       "2        70.593  \n",
       "3        75.483  \n",
       "4        89.880  "
      ]
     },
     "execution_count": 5,
     "metadata": {},
     "output_type": "execute_result"
    }
   ],
   "source": [
    "hop_df.head(5)"
   ]
  },
  {
   "cell_type": "code",
   "execution_count": 18,
   "id": "896d0628",
   "metadata": {},
   "outputs": [
    {
     "data": {
      "text/plain": [
       "(217911308, 6)"
      ]
     },
     "execution_count": 18,
     "metadata": {},
     "output_type": "execute_result"
    }
   ],
   "source": [
    "hop_df.shape"
   ]
  },
  {
   "cell_type": "code",
   "execution_count": 16,
   "id": "d939bd9c",
   "metadata": {},
   "outputs": [],
   "source": [
    "transaction_counts = hop_df[(hop_df['transaction_count'] >= 50) & (hop_df['average_day_wait'] < 50)]"
   ]
  },
  {
   "cell_type": "code",
   "execution_count": 14,
   "id": "79ddaea7",
   "metadata": {},
   "outputs": [
    {
     "data": {
      "text/plain": [
       "(33563184, 6)"
      ]
     },
     "execution_count": 14,
     "metadata": {},
     "output_type": "execute_result"
    }
   ],
   "source": [
    "transaction_counts.shape"
   ]
  },
  {
   "cell_type": "code",
   "execution_count": 17,
   "id": "9c1d55b8",
   "metadata": {},
   "outputs": [],
   "source": [
    "transaction_counts.to_csv('hoptrim.csv', index = False)"
   ]
  },
  {
   "cell_type": "code",
   "execution_count": null,
   "id": "e8606679",
   "metadata": {},
   "outputs": [],
   "source": []
  }
 ],
 "metadata": {
  "kernelspec": {
   "display_name": "Python 3",
   "language": "python",
   "name": "python3"
  },
  "language_info": {
   "codemirror_mode": {
    "name": "ipython",
    "version": 3
   },
   "file_extension": ".py",
   "mimetype": "text/x-python",
   "name": "python",
   "nbconvert_exporter": "python",
   "pygments_lexer": "ipython3",
   "version": "3.8.8"
  }
 },
 "nbformat": 4,
 "nbformat_minor": 5
}
