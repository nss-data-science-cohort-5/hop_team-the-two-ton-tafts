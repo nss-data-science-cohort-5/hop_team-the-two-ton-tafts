{
 "cells": [
  {
   "cell_type": "code",
   "execution_count": null,
   "id": "9090f3d7",
   "metadata": {},
   "outputs": [],
   "source": [
    "import pandas as pd"
   ]
  },
  {
   "cell_type": "code",
   "execution_count": null,
   "id": "234a2743",
   "metadata": {},
   "outputs": [],
   "source": [
    "hop_df = pd.read_csv(\"DocGraph_Hop_Teaming_2018.csv\")"
   ]
  },
  {
   "cell_type": "code",
   "execution_count": null,
   "id": "f6b25f13",
   "metadata": {},
   "outputs": [],
   "source": [
    "hop_df.head(5)"
   ]
  },
  {
   "cell_type": "code",
   "execution_count": null,
   "id": "896d0628",
   "metadata": {},
   "outputs": [],
   "source": [
    "hop_df.shape"
   ]
  },
  {
   "cell_type": "code",
   "execution_count": null,
   "id": "d939bd9c",
   "metadata": {},
   "outputs": [],
   "source": [
    "transaction_counts = hop_df[(hop_df['transaction_count'] >= 50) & (hop_df['average_day_wait'] < 50)]"
   ]
  },
  {
   "cell_type": "code",
   "execution_count": null,
   "id": "79ddaea7",
   "metadata": {},
   "outputs": [],
   "source": [
    "transaction_counts.shape"
   ]
  },
  {
   "cell_type": "code",
   "execution_count": null,
   "id": "9c1d55b8",
   "metadata": {},
   "outputs": [],
   "source": [
    "transaction_counts.to_csv('hoptrim.csv', index = False)"
   ]
  },
  {
   "cell_type": "code",
   "execution_count": null,
   "id": "e8606679",
   "metadata": {},
   "outputs": [],
   "source": []
  }
 ],
 "metadata": {
  "kernelspec": {
   "display_name": "Python 3",
   "language": "python",
   "name": "python3"
  },
  "language_info": {
   "codemirror_mode": {
    "name": "ipython",
    "version": 3
   },
   "file_extension": ".py",
   "mimetype": "text/x-python",
   "name": "python",
   "nbconvert_exporter": "python",
   "pygments_lexer": "ipython3",
   "version": "3.8.8"
  }
 },
 "nbformat": 4,
 "nbformat_minor": 5
}
