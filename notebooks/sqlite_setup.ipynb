{
 "cells": [
  {
   "cell_type": "code",
   "execution_count": 1,
   "id": "89b56907",
   "metadata": {},
   "outputs": [],
   "source": [
    "import pandas as pd\n",
    "import sqlite3\n",
    "from tqdm.notebook import tqdm"
   ]
  },
  {
   "cell_type": "code",
   "execution_count": 2,
   "id": "a2f3906a",
   "metadata": {},
   "outputs": [
    {
     "data": {
      "application/vnd.jupyter.widget-view+json": {
       "model_id": "b58a2bdf77fb4babbfe2d2b2ac0885c0",
       "version_major": 2,
       "version_minor": 0
      },
      "text/plain": [
       "0it [00:00, ?it/s]"
      ]
     },
     "metadata": {},
     "output_type": "display_data"
    },
    {
     "data": {
      "application/vnd.jupyter.widget-view+json": {
       "model_id": "befb7f1f446742fb9bd83aa070b30052",
       "version_major": 2,
       "version_minor": 0
      },
      "text/plain": [
       "0it [00:00, ?it/s]"
      ]
     },
     "metadata": {},
     "output_type": "display_data"
    },
    {
     "data": {
      "application/vnd.jupyter.widget-view+json": {
       "model_id": "4057101bd74848098f4afa70bece27d3",
       "version_major": 2,
       "version_minor": 0
      },
      "text/plain": [
       "0it [00:00, ?it/s]"
      ]
     },
     "metadata": {},
     "output_type": "display_data"
    },
    {
     "data": {
      "application/vnd.jupyter.widget-view+json": {
       "model_id": "7060122eb3f9481d832b6c3b8707a338",
       "version_major": 2,
       "version_minor": 0
      },
      "text/plain": [
       "0it [00:00, ?it/s]"
      ]
     },
     "metadata": {},
     "output_type": "display_data"
    }
   ],
   "source": [
    "hop_proj=sqlite3.connect('../data/hop_proj.sqlite')\n",
    "\n",
    "for chunk in tqdm(pd.read_csv('../data/nppes/nppes_with_taxonomy.csv',\n",
    "                              dtype = {'postal_code':str},\n",
    "                              chunksize = 1000)):\n",
    "    chunk['postal_code'] = chunk['postal_code'].str.slice(stop=5)\n",
    "    chunk.to_sql('nppes',\n",
    "                 hop_proj,\n",
    "                 if_exists = 'append',\n",
    "                 index = False)\n",
    "    \n",
    "for chunk in tqdm(pd.read_csv('../data/nucc_taxonomy_220.csv',\n",
    "                              chunksize = 1000)):\n",
    "    chunk.to_sql('taxonomy',\n",
    "                 hop_proj,\n",
    "                 if_exists = 'append',\n",
    "                 index = False)\n",
    "    \n",
    "for chunk in tqdm(pd.read_csv('../data/ZIP_CBSA_122021.csv',\n",
    "                              chunksize = 1000, )):\n",
    "    #chunk['zip'] = chunk['zip'].str.slice(start = 1, stop = 6)\n",
    "    chunk.to_sql('cbsa',\n",
    "                 hop_proj,\n",
    "                 if_exists = 'append',\n",
    "                 index = False)\n",
    "    \n",
    "for chunk in tqdm(pd.read_csv('../data/DocGraph_Hop_Teaming_2018_Commercial/hoptrim.csv', \n",
    "                              dtype = {'zip':str},\n",
    "                              chunksize = 1000)):\n",
    "    #chunk = chunk[(chunk['transaction_count'] >= 50) & chunk['average_day_wait'] < 50]\n",
    "    chunk.to_sql('hop',\n",
    "                 hop_proj,\n",
    "                 if_exists = 'append',\n",
    "                 index = False)\n",
    "    \n",
    "hop_proj.execute('CREATE INDEX npi ON nppes(npi)')\n",
    "\n",
    "hop_proj.execute('CREATE INDEX postal_code ON nppes(postal_code)')\n",
    "\n",
    "hop_proj.execute('CREATE INDEX primary_taxonomy ON nppes(primary_taxonomy)')\n",
    "\n",
    "hop_proj.execute('CREATE INDEX from_npi ON hop(from_npi)')\n",
    "\n",
    "hop_proj.execute('CREATE INDEX to_npi ON hop(to_npi)')\n",
    "\n",
    "hop_proj.execute('CREATE INDEX zip ON cbsa(zip)')\n",
    "\n",
    "hop_proj.execute('CREATE INDEX code ON taxonomy(code)')\n",
    "\n",
    "hop_proj.close()"
   ]
  },
  {
   "cell_type": "code",
   "execution_count": null,
   "id": "4596dbc9",
   "metadata": {},
   "outputs": [],
   "source": [
    "hop_proj.close()"
   ]
  },
  {
   "cell_type": "code",
   "execution_count": null,
   "id": "e003e667",
   "metadata": {},
   "outputs": [],
   "source": []
  }
 ],
 "metadata": {
  "kernelspec": {
   "display_name": "Python 3 (ipykernel)",
   "language": "python",
   "name": "python3"
  },
  "language_info": {
   "codemirror_mode": {
    "name": "ipython",
    "version": 3
   },
   "file_extension": ".py",
   "mimetype": "text/x-python",
   "name": "python",
   "nbconvert_exporter": "python",
   "pygments_lexer": "ipython3",
   "version": "3.8.11"
  }
 },
 "nbformat": 4,
 "nbformat_minor": 5
}
